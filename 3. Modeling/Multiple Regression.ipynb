{
 "cells": [
  {
   "cell_type": "markdown",
   "id": "exempt-formula",
   "metadata": {},
   "source": [
    "## 3) Multiple Regression Analysis\n",
    "\n",
    "- 두 개 이상의 연속형 독립변수가 연속형 종속변수에는 미치는 영향을 검증하는 분석 방법\n",
    "\n",
    "- 독립변수 분석: 종속변수와 관련이 있는 주요 독립변수 파악"
   ]
  },
  {
   "cell_type": "markdown",
   "id": "minor-prescription",
   "metadata": {},
   "source": [
    "### 격자 Data  전처리"
   ]
  },
  {
   "cell_type": "code",
   "execution_count": 170,
   "id": "supported-military",
   "metadata": {},
   "outputs": [],
   "source": [
    "# 격자데이터 읍면동별로 분류\n",
    "df = gpd.sjoin(geo, data32, op='intersects', how='left')\n",
    "dff = df.groupby('id').count().reset_index()\n",
    "fine = dff[dff['left'] == 1][['id','left']]#하나씩으로 정상적으로 나눠진 데이터\n",
    "fine = pd.merge(fine, df, on='id')[['id','ADM_DR_NM','left_x']]\n",
    "dff = dff[dff['left']>1][['id','left']] #두개 이상이 할당된 데이터\n",
    "df2 = pd.merge(dff, df, on='id')[['id','ADM_DR_NM','left_x']]\n",
    "\n",
    "# 조치원 부분만 처리\n",
    "eup = df2[df2['ADM_DR_NM'].str[3] == '읍']\n",
    "a = eup['id'].unique().tolist()\n",
    "eup = df2[df2['id'].isin(a)]\n",
    "df2 = df2.drop(eup.index)\n",
    "eup = eup[eup['ADM_DR_NM'].str[3] == '읍']\n",
    "\n",
    "\n",
    "# 중복되는 읍면동 drop\n",
    "dropdu = df2[['id','left_x']].drop_duplicates().index\n",
    "df2 = df2.loc[dropdu,:]\n",
    "done = pd.concat([fine, df2, eup])\n",
    "emdgeo = pd.merge(done,geo, on='id')"
   ]
  },
  {
   "cell_type": "code",
   "execution_count": 171,
   "id": "cardiovascular-empire",
   "metadata": {},
   "outputs": [
    {
     "name": "stdout",
     "output_type": "stream",
     "text": [
      "읍:  123\n",
      "면:  2911\n",
      "동:  149\n"
     ]
    }
   ],
   "source": [
    "# 읍면동 지역으로 나누어서 그리드 확인\n",
    "eup = emdgeo[emdgeo['ADM_DR_NM'].str[3] == '읍']\n",
    "myun = emdgeo[emdgeo['ADM_DR_NM'].str[2] == '면']\n",
    "dong = emdgeo[emdgeo['ADM_DR_NM'].str[2] == '동']\n",
    "\n",
    "print('읍: ', len(eup))\n",
    "print('면: ', len(myun))\n",
    "print('동: ', len(dong))"
   ]
  },
  {
   "cell_type": "code",
   "execution_count": 172,
   "id": "ongoing-simulation",
   "metadata": {},
   "outputs": [],
   "source": [
    "# 지역구분 column 추가\n",
    "eup['지역 구분'] = '읍'\n",
    "myun['지역 구분'] = '면'\n",
    "dong['지역 구분'] = '동'\n",
    "df = pd.concat([eup, myun, dong])"
   ]
  },
  {
   "cell_type": "markdown",
   "id": "alternate-bulgaria",
   "metadata": {},
   "source": [
    "### 지수(생활 편의, 안전, 교통), 공시지가, 인구 데이터 Column으로 추가"
   ]
  },
  {
   "cell_type": "code",
   "execution_count": 173,
   "id": "obvious-blues",
   "metadata": {},
   "outputs": [],
   "source": [
    "life_rate.columns = ['life','id']\n",
    "safety_rate.columns = ['safety','id']\n",
    "transport_rate.columns = ['transport','id']\n",
    "gs = gongsi2[['id',2020,'변동률']]\n",
    "gs.columns = ['id','공시지가','공시지가 변동률']\n",
    "pop2020 = pop2020[['id','총합']].fillna(0).replace(0,1)"
   ]
  },
  {
   "cell_type": "code",
   "execution_count": 174,
   "id": "changing-kenya",
   "metadata": {},
   "outputs": [],
   "source": [
    "popin = popin[['index',0]].fillna(0)\n",
    "popin.columns = ['ADM_DR_NM','순전입자수']\n",
    "# 순전입자수가 너무 많기 때문에 scaling 진행\n",
    "min_max_scaler = MinMaxScaler(feature_range=(5,100))\n",
    "x=popin['순전입자수']\n",
    "x=x.to_numpy(dtype=float)\n",
    "x=x.reshape(-1,1)\n",
    "x1= min_max_scaler.fit_transform(x)\n",
    "popin['순전입자수'] = x1"
   ]
  },
  {
   "cell_type": "code",
   "execution_count": 175,
   "id": "bacterial-spice",
   "metadata": {},
   "outputs": [],
   "source": [
    "age = age.replace(0,1)"
   ]
  },
  {
   "cell_type": "code",
   "execution_count": 176,
   "id": "jewish-annotation",
   "metadata": {},
   "outputs": [],
   "source": [
    "from functools import reduce\n",
    "dfs = [df,life_rate,safety_rate,transport_rate, gs, age, pop2020]\n",
    "df_merge = reduce(lambda left, right: pd.merge(left, right, on='id', how='outer'), dfs, )\n",
    "df_merge = pd.merge(df_merge, popin, on='ADM_DR_NM')\n",
    "emd = df_merge.drop(['left_x','left','top','bottom','SIG_CD','SIG_KOR_NM'],axis=1)"
   ]
  },
  {
   "cell_type": "code",
   "execution_count": 177,
   "id": "romantic-terrorism",
   "metadata": {},
   "outputs": [],
   "source": [
    "eup = emd[emd['지역 구분'] == '읍']\n",
    "myun = emd[emd['지역 구분'] == '면']\n",
    "dong = emd[emd['지역 구분'] == '동']"
   ]
  },
  {
   "cell_type": "markdown",
   "id": "frank-present",
   "metadata": {},
   "source": [
    "### 다중선형회귀( Level-log Model) 함수 정의\n",
    "\n",
    "- x가 1%만큼 증가할 때 y가 $\\frac{\\beta}{100}$% 만큼 변하는 것을 의미하는 분석 방법 ➡︎ 독립변수를 단위화  \n",
    "  \n",
    "- 독립변수가 단위에 영향을 받지 않도록 행복지수, 안전지수, 교통지수에 대해서 Level-log Model을 사용"
   ]
  },
  {
   "cell_type": "code",
   "execution_count": 178,
   "id": "aggressive-festival",
   "metadata": {},
   "outputs": [],
   "source": [
    "from statsmodels.formula.api import ols\n",
    "\n",
    "def log(df):\n",
    "    # 공시지가 na 값 drop 후, na 아닌 데이터만 추출\n",
    "    df=df.reset_index()\n",
    "    df1=df['공시지가'].dropna()\n",
    "    index=df1.index\n",
    "    df=df.loc[index]\n",
    "    df = df.fillna(0)\n",
    "\n",
    "    # 로그 씌워주기\n",
    "    df['log생활지수']=np.log(df['life'])\n",
    "    df['log안전지수']=np.log(df['safety'])\n",
    "    df['log교통지수']=np.log(df['transport'])\n",
    "    df['log건축연한']=np.log(df['사용연도'])\n",
    "    df['건축연한']=df['사용연도']\n",
    "    df['log순전입자수']=np.log(df['순전입자수'])\n",
    "\n",
    "    return df\n",
    "\n",
    "def ourols(df, log=False):\n",
    "    # 회귀 돌려주기\n",
    "    res = ols('공시지가 ~ log생활지수+log안전지수+log교통지수+순전입자수', data=df).fit()\n",
    "        \n",
    "    return res"
   ]
  },
  {
   "cell_type": "markdown",
   "id": "tropical-symphony",
   "metadata": {},
   "source": [
    "### 읍 (log-level)"
   ]
  },
  {
   "cell_type": "code",
   "execution_count": 179,
   "id": "velvet-payment",
   "metadata": {
    "scrolled": false
   },
   "outputs": [
    {
     "data": {
      "text/html": [
       "<table class=\"simpletable\">\n",
       "<caption>OLS Regression Results</caption>\n",
       "<tr>\n",
       "  <th>Dep. Variable:</th>          <td>공시지가</td>       <th>  R-squared:         </th> <td>   0.460</td>\n",
       "</tr>\n",
       "<tr>\n",
       "  <th>Model:</th>                   <td>OLS</td>       <th>  Adj. R-squared:    </th> <td>   0.440</td>\n",
       "</tr>\n",
       "<tr>\n",
       "  <th>Method:</th>             <td>Least Squares</td>  <th>  F-statistic:       </th> <td>   22.45</td>\n",
       "</tr>\n",
       "<tr>\n",
       "  <th>Date:</th>             <td>Fri, 26 Mar 2021</td> <th>  Prob (F-statistic):</th> <td>1.31e-10</td>\n",
       "</tr>\n",
       "<tr>\n",
       "  <th>Time:</th>                 <td>22:57:53</td>     <th>  Log-Likelihood:    </th> <td> -430.30</td>\n",
       "</tr>\n",
       "<tr>\n",
       "  <th>No. Observations:</th>      <td>    83</td>      <th>  AIC:               </th> <td>   868.6</td>\n",
       "</tr>\n",
       "<tr>\n",
       "  <th>Df Residuals:</th>          <td>    79</td>      <th>  BIC:               </th> <td>   878.3</td>\n",
       "</tr>\n",
       "<tr>\n",
       "  <th>Df Model:</th>              <td>     3</td>      <th>                     </th>     <td> </td>   \n",
       "</tr>\n",
       "<tr>\n",
       "  <th>Covariance Type:</th>      <td>nonrobust</td>    <th>                     </th>     <td> </td>   \n",
       "</tr>\n",
       "</table>\n",
       "<table class=\"simpletable\">\n",
       "<tr>\n",
       "      <td></td>         <th>coef</th>     <th>std err</th>      <th>t</th>      <th>P>|t|</th>  <th>[0.025</th>    <th>0.975]</th>  \n",
       "</tr>\n",
       "<tr>\n",
       "  <th>Intercept</th> <td>   -0.4302</td> <td>    0.525</td> <td>   -0.819</td> <td> 0.415</td> <td>   -1.476</td> <td>    0.615</td>\n",
       "</tr>\n",
       "<tr>\n",
       "  <th>log생활지수</th>   <td>   33.3251</td> <td>   12.429</td> <td>    2.681</td> <td> 0.009</td> <td>    8.586</td> <td>   58.065</td>\n",
       "</tr>\n",
       "<tr>\n",
       "  <th>log안전지수</th>   <td>   26.7721</td> <td>    8.618</td> <td>    3.106</td> <td> 0.003</td> <td>    9.618</td> <td>   43.927</td>\n",
       "</tr>\n",
       "<tr>\n",
       "  <th>log교통지수</th>   <td>   17.8212</td> <td>   10.543</td> <td>    1.690</td> <td> 0.095</td> <td>   -3.165</td> <td>   38.807</td>\n",
       "</tr>\n",
       "<tr>\n",
       "  <th>순전입자수</th>     <td>   -2.7477</td> <td>    3.355</td> <td>   -0.819</td> <td> 0.415</td> <td>   -9.425</td> <td>    3.929</td>\n",
       "</tr>\n",
       "</table>\n",
       "<table class=\"simpletable\">\n",
       "<tr>\n",
       "  <th>Omnibus:</th>       <td>11.133</td> <th>  Durbin-Watson:     </th> <td>   1.394</td>\n",
       "</tr>\n",
       "<tr>\n",
       "  <th>Prob(Omnibus):</th> <td> 0.004</td> <th>  Jarque-Bera (JB):  </th> <td>  11.567</td>\n",
       "</tr>\n",
       "<tr>\n",
       "  <th>Skew:</th>          <td> 0.771</td> <th>  Prob(JB):          </th> <td> 0.00308</td>\n",
       "</tr>\n",
       "<tr>\n",
       "  <th>Kurtosis:</th>      <td> 3.984</td> <th>  Cond. No.          </th> <td>2.41e+16</td>\n",
       "</tr>\n",
       "</table><br/><br/>Notes:<br/>[1] Standard Errors assume that the covariance matrix of the errors is correctly specified.<br/>[2] The smallest eigenvalue is 7.89e-30. This might indicate that there are<br/>strong multicollinearity problems or that the design matrix is singular."
      ],
      "text/plain": [
       "<class 'statsmodels.iolib.summary.Summary'>\n",
       "\"\"\"\n",
       "                            OLS Regression Results                            \n",
       "==============================================================================\n",
       "Dep. Variable:                   공시지가   R-squared:                       0.460\n",
       "Model:                            OLS   Adj. R-squared:                  0.440\n",
       "Method:                 Least Squares   F-statistic:                     22.45\n",
       "Date:                Fri, 26 Mar 2021   Prob (F-statistic):           1.31e-10\n",
       "Time:                        22:57:53   Log-Likelihood:                -430.30\n",
       "No. Observations:                  83   AIC:                             868.6\n",
       "Df Residuals:                      79   BIC:                             878.3\n",
       "Df Model:                           3                                         \n",
       "Covariance Type:            nonrobust                                         \n",
       "==============================================================================\n",
       "                 coef    std err          t      P>|t|      [0.025      0.975]\n",
       "------------------------------------------------------------------------------\n",
       "Intercept     -0.4302      0.525     -0.819      0.415      -1.476       0.615\n",
       "log생활지수       33.3251     12.429      2.681      0.009       8.586      58.065\n",
       "log안전지수       26.7721      8.618      3.106      0.003       9.618      43.927\n",
       "log교통지수       17.8212     10.543      1.690      0.095      -3.165      38.807\n",
       "순전입자수         -2.7477      3.355     -0.819      0.415      -9.425       3.929\n",
       "==============================================================================\n",
       "Omnibus:                       11.133   Durbin-Watson:                   1.394\n",
       "Prob(Omnibus):                  0.004   Jarque-Bera (JB):               11.567\n",
       "Skew:                           0.771   Prob(JB):                      0.00308\n",
       "Kurtosis:                       3.984   Cond. No.                     2.41e+16\n",
       "==============================================================================\n",
       "\n",
       "Notes:\n",
       "[1] Standard Errors assume that the covariance matrix of the errors is correctly specified.\n",
       "[2] The smallest eigenvalue is 7.89e-30. This might indicate that there are\n",
       "strong multicollinearity problems or that the design matrix is singular.\n",
       "\"\"\""
      ]
     },
     "execution_count": 179,
     "metadata": {},
     "output_type": "execute_result"
    }
   ],
   "source": [
    "res1 = ourols(log(eup))\n",
    "res1.summary()"
   ]
  },
  {
   "cell_type": "markdown",
   "id": "polyphonic-second",
   "metadata": {},
   "source": [
    "### 면 (log-level)"
   ]
  },
  {
   "cell_type": "code",
   "execution_count": 180,
   "id": "neutral-elevation",
   "metadata": {
    "scrolled": false
   },
   "outputs": [
    {
     "data": {
      "text/html": [
       "<table class=\"simpletable\">\n",
       "<caption>OLS Regression Results</caption>\n",
       "<tr>\n",
       "  <th>Dep. Variable:</th>          <td>공시지가</td>       <th>  R-squared:         </th> <td>   0.416</td> \n",
       "</tr>\n",
       "<tr>\n",
       "  <th>Model:</th>                   <td>OLS</td>       <th>  Adj. R-squared:    </th> <td>   0.414</td> \n",
       "</tr>\n",
       "<tr>\n",
       "  <th>Method:</th>             <td>Least Squares</td>  <th>  F-statistic:       </th> <td>   245.6</td> \n",
       "</tr>\n",
       "<tr>\n",
       "  <th>Date:</th>             <td>Fri, 26 Mar 2021</td> <th>  Prob (F-statistic):</th> <td>2.24e-159</td>\n",
       "</tr>\n",
       "<tr>\n",
       "  <th>Time:</th>                 <td>22:57:53</td>     <th>  Log-Likelihood:    </th> <td> -7209.0</td> \n",
       "</tr>\n",
       "<tr>\n",
       "  <th>No. Observations:</th>      <td>  1386</td>      <th>  AIC:               </th> <td>1.443e+04</td>\n",
       "</tr>\n",
       "<tr>\n",
       "  <th>Df Residuals:</th>          <td>  1381</td>      <th>  BIC:               </th> <td>1.445e+04</td>\n",
       "</tr>\n",
       "<tr>\n",
       "  <th>Df Model:</th>              <td>     4</td>      <th>                     </th>     <td> </td>    \n",
       "</tr>\n",
       "<tr>\n",
       "  <th>Covariance Type:</th>      <td>nonrobust</td>    <th>                     </th>     <td> </td>    \n",
       "</tr>\n",
       "</table>\n",
       "<table class=\"simpletable\">\n",
       "<tr>\n",
       "      <td></td>         <th>coef</th>     <th>std err</th>      <th>t</th>      <th>P>|t|</th>  <th>[0.025</th>    <th>0.975]</th>  \n",
       "</tr>\n",
       "<tr>\n",
       "  <th>Intercept</th> <td> -369.9390</td> <td>   17.730</td> <td>  -20.865</td> <td> 0.000</td> <td> -404.720</td> <td> -335.158</td>\n",
       "</tr>\n",
       "<tr>\n",
       "  <th>log생활지수</th>   <td>  147.1045</td> <td>   11.560</td> <td>   12.725</td> <td> 0.000</td> <td>  124.427</td> <td>  169.782</td>\n",
       "</tr>\n",
       "<tr>\n",
       "  <th>log안전지수</th>   <td>   42.9230</td> <td>    3.506</td> <td>   12.242</td> <td> 0.000</td> <td>   36.045</td> <td>   49.801</td>\n",
       "</tr>\n",
       "<tr>\n",
       "  <th>log교통지수</th>   <td>   48.0385</td> <td>    7.071</td> <td>    6.793</td> <td> 0.000</td> <td>   34.167</td> <td>   61.910</td>\n",
       "</tr>\n",
       "<tr>\n",
       "  <th>순전입자수</th>     <td>    5.6526</td> <td>    0.653</td> <td>    8.656</td> <td> 0.000</td> <td>    4.372</td> <td>    6.934</td>\n",
       "</tr>\n",
       "</table>\n",
       "<table class=\"simpletable\">\n",
       "<tr>\n",
       "  <th>Omnibus:</th>       <td>342.545</td> <th>  Durbin-Watson:     </th> <td>   1.016</td>\n",
       "</tr>\n",
       "<tr>\n",
       "  <th>Prob(Omnibus):</th> <td> 0.000</td>  <th>  Jarque-Bera (JB):  </th> <td>1865.500</td>\n",
       "</tr>\n",
       "<tr>\n",
       "  <th>Skew:</th>          <td> 1.038</td>  <th>  Prob(JB):          </th> <td>    0.00</td>\n",
       "</tr>\n",
       "<tr>\n",
       "  <th>Kurtosis:</th>      <td> 8.291</td>  <th>  Cond. No.          </th> <td>    145.</td>\n",
       "</tr>\n",
       "</table><br/><br/>Notes:<br/>[1] Standard Errors assume that the covariance matrix of the errors is correctly specified."
      ],
      "text/plain": [
       "<class 'statsmodels.iolib.summary.Summary'>\n",
       "\"\"\"\n",
       "                            OLS Regression Results                            \n",
       "==============================================================================\n",
       "Dep. Variable:                   공시지가   R-squared:                       0.416\n",
       "Model:                            OLS   Adj. R-squared:                  0.414\n",
       "Method:                 Least Squares   F-statistic:                     245.6\n",
       "Date:                Fri, 26 Mar 2021   Prob (F-statistic):          2.24e-159\n",
       "Time:                        22:57:53   Log-Likelihood:                -7209.0\n",
       "No. Observations:                1386   AIC:                         1.443e+04\n",
       "Df Residuals:                    1381   BIC:                         1.445e+04\n",
       "Df Model:                           4                                         \n",
       "Covariance Type:            nonrobust                                         \n",
       "==============================================================================\n",
       "                 coef    std err          t      P>|t|      [0.025      0.975]\n",
       "------------------------------------------------------------------------------\n",
       "Intercept   -369.9390     17.730    -20.865      0.000    -404.720    -335.158\n",
       "log생활지수      147.1045     11.560     12.725      0.000     124.427     169.782\n",
       "log안전지수       42.9230      3.506     12.242      0.000      36.045      49.801\n",
       "log교통지수       48.0385      7.071      6.793      0.000      34.167      61.910\n",
       "순전입자수          5.6526      0.653      8.656      0.000       4.372       6.934\n",
       "==============================================================================\n",
       "Omnibus:                      342.545   Durbin-Watson:                   1.016\n",
       "Prob(Omnibus):                  0.000   Jarque-Bera (JB):             1865.500\n",
       "Skew:                           1.038   Prob(JB):                         0.00\n",
       "Kurtosis:                       8.291   Cond. No.                         145.\n",
       "==============================================================================\n",
       "\n",
       "Notes:\n",
       "[1] Standard Errors assume that the covariance matrix of the errors is correctly specified.\n",
       "\"\"\""
      ]
     },
     "execution_count": 180,
     "metadata": {},
     "output_type": "execute_result"
    }
   ],
   "source": [
    "res2 = ourols(log(myun))\n",
    "res2.summary()"
   ]
  },
  {
   "cell_type": "markdown",
   "id": "surrounded-knitting",
   "metadata": {},
   "source": [
    "### 동 (log-level)"
   ]
  },
  {
   "cell_type": "code",
   "execution_count": 181,
   "id": "decreased-burton",
   "metadata": {
    "scrolled": true
   },
   "outputs": [
    {
     "data": {
      "text/html": [
       "<table class=\"simpletable\">\n",
       "<caption>OLS Regression Results</caption>\n",
       "<tr>\n",
       "  <th>Dep. Variable:</th>          <td>공시지가</td>       <th>  R-squared:         </th> <td>   0.220</td>\n",
       "</tr>\n",
       "<tr>\n",
       "  <th>Model:</th>                   <td>OLS</td>       <th>  Adj. R-squared:    </th> <td>   0.159</td>\n",
       "</tr>\n",
       "<tr>\n",
       "  <th>Method:</th>             <td>Least Squares</td>  <th>  F-statistic:       </th> <td>   3.592</td>\n",
       "</tr>\n",
       "<tr>\n",
       "  <th>Date:</th>             <td>Fri, 26 Mar 2021</td> <th>  Prob (F-statistic):</th>  <td>0.0118</td> \n",
       "</tr>\n",
       "<tr>\n",
       "  <th>Time:</th>                 <td>22:57:54</td>     <th>  Log-Likelihood:    </th> <td> -395.93</td>\n",
       "</tr>\n",
       "<tr>\n",
       "  <th>No. Observations:</th>      <td>    56</td>      <th>  AIC:               </th> <td>   801.9</td>\n",
       "</tr>\n",
       "<tr>\n",
       "  <th>Df Residuals:</th>          <td>    51</td>      <th>  BIC:               </th> <td>   812.0</td>\n",
       "</tr>\n",
       "<tr>\n",
       "  <th>Df Model:</th>              <td>     4</td>      <th>                     </th>     <td> </td>   \n",
       "</tr>\n",
       "<tr>\n",
       "  <th>Covariance Type:</th>      <td>nonrobust</td>    <th>                     </th>     <td> </td>   \n",
       "</tr>\n",
       "</table>\n",
       "<table class=\"simpletable\">\n",
       "<tr>\n",
       "      <td></td>         <th>coef</th>     <th>std err</th>      <th>t</th>      <th>P>|t|</th>  <th>[0.025</th>    <th>0.975]</th>  \n",
       "</tr>\n",
       "<tr>\n",
       "  <th>Intercept</th> <td> -584.2223</td> <td>  305.513</td> <td>   -1.912</td> <td> 0.061</td> <td>-1197.565</td> <td>   29.120</td>\n",
       "</tr>\n",
       "<tr>\n",
       "  <th>log생활지수</th>   <td>   81.2053</td> <td>   67.082</td> <td>    1.211</td> <td> 0.232</td> <td>  -53.467</td> <td>  215.877</td>\n",
       "</tr>\n",
       "<tr>\n",
       "  <th>log안전지수</th>   <td>  173.4829</td> <td>   92.579</td> <td>    1.874</td> <td> 0.067</td> <td>  -12.377</td> <td>  359.342</td>\n",
       "</tr>\n",
       "<tr>\n",
       "  <th>log교통지수</th>   <td>   45.1004</td> <td>   52.157</td> <td>    0.865</td> <td> 0.391</td> <td>  -59.609</td> <td>  149.810</td>\n",
       "</tr>\n",
       "<tr>\n",
       "  <th>순전입자수</th>     <td>    3.6157</td> <td>    1.484</td> <td>    2.437</td> <td> 0.018</td> <td>    0.637</td> <td>    6.594</td>\n",
       "</tr>\n",
       "</table>\n",
       "<table class=\"simpletable\">\n",
       "<tr>\n",
       "  <th>Omnibus:</th>       <td>13.538</td> <th>  Durbin-Watson:     </th> <td>   1.641</td>\n",
       "</tr>\n",
       "<tr>\n",
       "  <th>Prob(Omnibus):</th> <td> 0.001</td> <th>  Jarque-Bera (JB):  </th> <td>  14.520</td>\n",
       "</tr>\n",
       "<tr>\n",
       "  <th>Skew:</th>          <td> 1.086</td> <th>  Prob(JB):          </th> <td>0.000703</td>\n",
       "</tr>\n",
       "<tr>\n",
       "  <th>Kurtosis:</th>      <td> 4.228</td> <th>  Cond. No.          </th> <td>    422.</td>\n",
       "</tr>\n",
       "</table><br/><br/>Notes:<br/>[1] Standard Errors assume that the covariance matrix of the errors is correctly specified."
      ],
      "text/plain": [
       "<class 'statsmodels.iolib.summary.Summary'>\n",
       "\"\"\"\n",
       "                            OLS Regression Results                            \n",
       "==============================================================================\n",
       "Dep. Variable:                   공시지가   R-squared:                       0.220\n",
       "Model:                            OLS   Adj. R-squared:                  0.159\n",
       "Method:                 Least Squares   F-statistic:                     3.592\n",
       "Date:                Fri, 26 Mar 2021   Prob (F-statistic):             0.0118\n",
       "Time:                        22:57:54   Log-Likelihood:                -395.93\n",
       "No. Observations:                  56   AIC:                             801.9\n",
       "Df Residuals:                      51   BIC:                             812.0\n",
       "Df Model:                           4                                         \n",
       "Covariance Type:            nonrobust                                         \n",
       "==============================================================================\n",
       "                 coef    std err          t      P>|t|      [0.025      0.975]\n",
       "------------------------------------------------------------------------------\n",
       "Intercept   -584.2223    305.513     -1.912      0.061   -1197.565      29.120\n",
       "log생활지수       81.2053     67.082      1.211      0.232     -53.467     215.877\n",
       "log안전지수      173.4829     92.579      1.874      0.067     -12.377     359.342\n",
       "log교통지수       45.1004     52.157      0.865      0.391     -59.609     149.810\n",
       "순전입자수          3.6157      1.484      2.437      0.018       0.637       6.594\n",
       "==============================================================================\n",
       "Omnibus:                       13.538   Durbin-Watson:                   1.641\n",
       "Prob(Omnibus):                  0.001   Jarque-Bera (JB):               14.520\n",
       "Skew:                           1.086   Prob(JB):                     0.000703\n",
       "Kurtosis:                       4.228   Cond. No.                         422.\n",
       "==============================================================================\n",
       "\n",
       "Notes:\n",
       "[1] Standard Errors assume that the covariance matrix of the errors is correctly specified.\n",
       "\"\"\""
      ]
     },
     "execution_count": 181,
     "metadata": {},
     "output_type": "execute_result"
    }
   ],
   "source": [
    "res3 = ourols(log(dong))\n",
    "res3.summary()"
   ]
  },
  {
   "cell_type": "code",
   "execution_count": null,
   "id": "banned-updating",
   "metadata": {},
   "outputs": [],
   "source": []
  }
 ],
 "metadata": {
  "kernelspec": {
   "display_name": "Python 3",
   "language": "python",
   "name": "python3"
  },
  "language_info": {
   "codemirror_mode": {
    "name": "ipython",
    "version": 3
   },
   "file_extension": ".py",
   "mimetype": "text/x-python",
   "name": "python",
   "nbconvert_exporter": "python",
   "pygments_lexer": "ipython3",
   "version": "3.6.9"
  }
 },
 "nbformat": 4,
 "nbformat_minor": 5
}
