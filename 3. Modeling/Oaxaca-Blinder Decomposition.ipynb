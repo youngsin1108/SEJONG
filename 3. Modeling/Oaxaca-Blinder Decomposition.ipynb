{
 "cells": [
  {
   "cell_type": "markdown",
   "id": "numeric-remove",
   "metadata": {},
   "source": [
    "## 4) Oaxaca-Blinder Decomposition"
   ]
  },
  {
   "cell_type": "markdown",
   "id": "developmental-visitor",
   "metadata": {},
   "source": [
    "- 선형회귀계수를 이용해 격차를 세 가지 부분으로 분해해 격차의 발생요인을 설명하는 분석 방법\n",
    "\n",
    "- 가격 격차가 어디서 기인하는지 분석하기 위해 Oaxaca-Blinder 분해법 적용"
   ]
  },
  {
   "cell_type": "markdown",
   "id": "announced-traveler",
   "metadata": {},
   "source": [
    "### Preprocessing"
   ]
  },
  {
   "cell_type": "code",
   "execution_count": 182,
   "id": "sonic-helping",
   "metadata": {},
   "outputs": [],
   "source": [
    "# 읍 X와 y값 지정.\n",
    "X_eup=log(eup)[['log생활지수','log안전지수','log교통지수','순전입자수']]\n",
    "y_eup=log(eup)['공시지가']\n",
    "\n",
    "# 면 X와 y값 지정.\n",
    "X_myun=log(myun)[['log생활지수','log안전지수','log교통지수','순전입자수']]\n",
    "y_myun=log(myun)['공시지가']\n",
    "\n",
    "# 동 X와 y값 지정.\n",
    "X_dong=log(dong)[['log생활지수','log안전지수','log교통지수','순전입자수']]\n",
    "y_dong=log(dong)['공시지가']"
   ]
  },
  {
   "cell_type": "code",
   "execution_count": 183,
   "id": "dependent-portal",
   "metadata": {},
   "outputs": [],
   "source": [
    "# 읍, 면 vs 동 Beta(coefficient)계수 벡터화\n",
    "b_eup = np.asarray(res1.params[1:])\n",
    "b_myun = np.asarray(res2.params[1:])\n",
    "b_dong = np.asarray(res3.params[1:])"
   ]
  },
  {
   "cell_type": "code",
   "execution_count": 184,
   "id": "vocal-serum",
   "metadata": {},
   "outputs": [],
   "source": [
    "# 읍, 면 vs 동 독립변수 mean 벡터화\n",
    "x_eup = np.asarray(X_eup.mean())\n",
    "x_myun = np.asarray(X_myun.mean())\n",
    "x_dong = np.asarray(X_dong.mean())"
   ]
  },
  {
   "cell_type": "code",
   "execution_count": 185,
   "id": "public-portal",
   "metadata": {},
   "outputs": [
    {
     "name": "stdout",
     "output_type": "stream",
     "text": [
      "읍 공시지가 평균:  143.87415273812783\n",
      "면 공시지가 평균:  68.49730319252787\n",
      "동 공시지가 평균:  438.9350847985806\n"
     ]
    }
   ],
   "source": [
    "print('읍 공시지가 평균: ',y_eup.mean())\n",
    "print('면 공시지가 평균: ',y_myun.mean())\n",
    "print('동 공시지가 평균: ',y_dong.mean())"
   ]
  },
  {
   "cell_type": "markdown",
   "id": "aerial-charger",
   "metadata": {},
   "source": [
    "### Modeling"
   ]
  },
  {
   "cell_type": "markdown",
   "id": "incorrect-detector",
   "metadata": {},
   "source": [
    "- Endowments: 설명 변수 차이로 인해 발생하는 격차\n",
    "\n",
    "- Coefficients: 각 그룹의 회귀 계수 차이로 인해 발생하는 격차\n",
    "\n",
    "- Interaction: 모델로 설명할 수 없는 부분 (잔차)"
   ]
  },
  {
   "cell_type": "code",
   "execution_count": 186,
   "id": "wooden-ebony",
   "metadata": {},
   "outputs": [],
   "source": [
    "def oaxaca(x1, x2, b1, b2):\n",
    "    \n",
    "    X=x1-x2\n",
    "    B=b1-b2\n",
    "    \n",
    "    endowments=[]\n",
    "    coefficients=[]\n",
    "    interaction=[]\n",
    "    \n",
    "    for i in range(4):\n",
    "        endowments.append(X[i]*b2[i])\n",
    "        coefficients.append(x2[i]*B[i])\n",
    "        interaction.append(X[i]*B[i])\n",
    "    df = DataFrame()\n",
    "    df['endowments'] = endowments\n",
    "    df['coefficents'] = coefficients\n",
    "    df['interaction'] = interaction\n",
    "    df['variable'] = ['loglife','logsafety','logtransport','순전입자수']\n",
    "    df = df.set_index('variable')\n",
    "    df2 = DataFrame(df.transpose())\n",
    "    df2['sum'] = df.sum()\n",
    "    return df2"
   ]
  },
  {
   "cell_type": "code",
   "execution_count": 187,
   "id": "heated-prompt",
   "metadata": {},
   "outputs": [
    {
     "data": {
      "text/html": [
       "<div>\n",
       "<style scoped>\n",
       "    .dataframe tbody tr th:only-of-type {\n",
       "        vertical-align: middle;\n",
       "    }\n",
       "\n",
       "    .dataframe tbody tr th {\n",
       "        vertical-align: top;\n",
       "    }\n",
       "\n",
       "    .dataframe thead th {\n",
       "        text-align: right;\n",
       "    }\n",
       "</style>\n",
       "<table border=\"1\" class=\"dataframe\">\n",
       "  <thead>\n",
       "    <tr style=\"text-align: right;\">\n",
       "      <th>variable</th>\n",
       "      <th>loglife</th>\n",
       "      <th>logsafety</th>\n",
       "      <th>logtransport</th>\n",
       "      <th>순전입자수</th>\n",
       "      <th>sum</th>\n",
       "    </tr>\n",
       "  </thead>\n",
       "  <tbody>\n",
       "    <tr>\n",
       "      <th>endowments</th>\n",
       "      <td>81.43579</td>\n",
       "      <td>61.90114</td>\n",
       "      <td>50.23192</td>\n",
       "      <td>214.41882</td>\n",
       "      <td>407.98767</td>\n",
       "    </tr>\n",
       "    <tr>\n",
       "      <th>coefficents</th>\n",
       "      <td>-107.08869</td>\n",
       "      <td>232.80921</td>\n",
       "      <td>-4.86781</td>\n",
       "      <td>-15.58772</td>\n",
       "      <td>105.26499</td>\n",
       "    </tr>\n",
       "    <tr>\n",
       "      <th>interaction</th>\n",
       "      <td>-36.48123</td>\n",
       "      <td>188.28639</td>\n",
       "      <td>-3.07226</td>\n",
       "      <td>-77.26447</td>\n",
       "      <td>71.46844</td>\n",
       "    </tr>\n",
       "  </tbody>\n",
       "</table>\n",
       "</div>"
      ],
      "text/plain": [
       "variable       loglife  logsafety  logtransport     순전입자수       sum\n",
       "endowments    81.43579   61.90114      50.23192 214.41882 407.98767\n",
       "coefficents -107.08869  232.80921      -4.86781 -15.58772 105.26499\n",
       "interaction  -36.48123  188.28639      -3.07226 -77.26447  71.46844"
      ]
     },
     "execution_count": 187,
     "metadata": {},
     "output_type": "execute_result"
    }
   ],
   "source": [
    "oaxaca(x_dong, x_myun, b_dong, b_myun)"
   ]
  },
  {
   "cell_type": "code",
   "execution_count": 188,
   "id": "mexican-dispute",
   "metadata": {},
   "outputs": [
    {
     "data": {
      "text/html": [
       "<div>\n",
       "<style scoped>\n",
       "    .dataframe tbody tr th:only-of-type {\n",
       "        vertical-align: middle;\n",
       "    }\n",
       "\n",
       "    .dataframe tbody tr th {\n",
       "        vertical-align: top;\n",
       "    }\n",
       "\n",
       "    .dataframe thead th {\n",
       "        text-align: right;\n",
       "    }\n",
       "</style>\n",
       "<table border=\"1\" class=\"dataframe\">\n",
       "  <thead>\n",
       "    <tr style=\"text-align: right;\">\n",
       "      <th>variable</th>\n",
       "      <th>loglife</th>\n",
       "      <th>logsafety</th>\n",
       "      <th>logtransport</th>\n",
       "      <th>순전입자수</th>\n",
       "      <th>sum</th>\n",
       "    </tr>\n",
       "  </thead>\n",
       "  <tbody>\n",
       "    <tr>\n",
       "      <th>endowments</th>\n",
       "      <td>10.74201</td>\n",
       "      <td>21.58352</td>\n",
       "      <td>12.93237</td>\n",
       "      <td>-107.70444</td>\n",
       "      <td>-62.44654</td>\n",
       "    </tr>\n",
       "    <tr>\n",
       "      <th>coefficents</th>\n",
       "      <td>88.87952</td>\n",
       "      <td>354.90958</td>\n",
       "      <td>53.92479</td>\n",
       "      <td>40.64354</td>\n",
       "      <td>538.35743</td>\n",
       "    </tr>\n",
       "    <tr>\n",
       "      <th>interaction</th>\n",
       "      <td>15.43369</td>\n",
       "      <td>118.27752</td>\n",
       "      <td>19.79589</td>\n",
       "      <td>249.43507</td>\n",
       "      <td>402.94218</td>\n",
       "    </tr>\n",
       "  </tbody>\n",
       "</table>\n",
       "</div>"
      ],
      "text/plain": [
       "variable     loglife  logsafety  logtransport      순전입자수       sum\n",
       "endowments  10.74201   21.58352      12.93237 -107.70444 -62.44654\n",
       "coefficents 88.87952  354.90958      53.92479   40.64354 538.35743\n",
       "interaction 15.43369  118.27752      19.79589  249.43507 402.94218"
      ]
     },
     "execution_count": 188,
     "metadata": {},
     "output_type": "execute_result"
    }
   ],
   "source": [
    "oaxaca(x_dong, x_eup, b_dong, b_eup)"
   ]
  },
  {
   "cell_type": "code",
   "execution_count": null,
   "id": "liquid-edinburgh",
   "metadata": {},
   "outputs": [],
   "source": []
  }
 ],
 "metadata": {
  "kernelspec": {
   "display_name": "Python 3",
   "language": "python",
   "name": "python3"
  },
  "language_info": {
   "codemirror_mode": {
    "name": "ipython",
    "version": 3
   },
   "file_extension": ".py",
   "mimetype": "text/x-python",
   "name": "python",
   "nbconvert_exporter": "python",
   "pygments_lexer": "ipython3",
   "version": "3.6.9"
  }
 },
 "nbformat": 4,
 "nbformat_minor": 5
}
